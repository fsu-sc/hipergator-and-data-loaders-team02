{
 "cells": [
  {
   "cell_type": "markdown",
   "id": "d04f0950-ffa0-4742-8b34-a1302fa17f0e",
   "metadata": {},
   "source": [
    "We organized the ISLES Challenge in the blue_isc5935/share/team02/data directory (in the HiPerGator environment) into masks, NIFTIs, and processedNIFTIs directories. The NIFTIs directory has 3 NIFTI files for each subject, one NIFTI for each MRI modality. Originally, these files were in folders for each subject, along with some .json files. I moved the .nii files so that they were all in the same directory, making it easy to load those files in all at once. There may be a need to differentiate these files based on modality, in which case the file names can be checked. Similarly, the masks were placed in individual directories for each subject along with some other derivative information, so I isolated all those masks files into one directory, thus making it easy to load in that data if necessary. In anticpation of needing to remain organized after any preprocessing, I made an empty processedNIFTIs directory to store any future preprocessed files. ISLES only provides a training dataset, but we will likely split the existing training dataset into training, validation, and test sets, in which case we will use a split data function to do so. It seems that this can be done when loading in the data with relatively little complexity. Splitting up the data while loading can also allow us to change the training, validation, and test set proportions by using a function."
   ]
  },
  {
   "cell_type": "code",
   "execution_count": 1,
   "id": "3dd5bcb4-8094-4157-9a4b-18ef885ccb9b",
   "metadata": {},
   "outputs": [
    {
     "name": "stdout",
     "output_type": "stream",
     "text": [
      "Running on cpu\n",
      "Running on cpu\n"
     ]
    }
   ],
   "source": [
    "%load_ext autoreload\n",
    "%autoreload 2\n",
    "\n",
    "import torch\n",
    "import torchvision\n",
    "import matplotlib.pyplot as plt\n",
    "import os\n",
    "from os.path import join\n",
    "from torch.utils.data import Dataset, DataLoader\n",
    "from torchvision.io import read_image\n",
    "import torchvision.transforms as transforms\n",
    "\n",
    "import numpy as np\n",
    "\n",
    "import itk\n",
    "\n",
    "device = \"cuda\" if torch.cuda.is_available() else \"cpu\"\n",
    "print(f\"Running on {device}\")\n",
    "\n",
    "import MyGenerator\n",
    "      "
   ]
  },
  {
   "cell_type": "code",
   "execution_count": 48,
   "id": "3ddbf246-5e4e-4cae-8f8b-ac35a905df71",
   "metadata": {},
   "outputs": [
    {
     "name": "stdout",
     "output_type": "stream",
     "text": [
      "Running on cpu\n"
     ]
    }
   ],
   "source": [
    "root_path = \"data/\"\n",
    "dataset = MyGenerator.MyDataset(join(join(root_path,'NIFTIs'),'NIFTIs').replace(\"\\\\\",\"/\"), join(root_path,'masks').replace(\"\\\\\",\"/\"),transform=transforms.Normalize([0],[1]))"
   ]
  },
  {
   "cell_type": "code",
   "execution_count": 36,
   "id": "69b3c655-2717-4b91-a1b3-dbbe418ff7a3",
   "metadata": {},
   "outputs": [],
   "source": [
    "def plot_batch(batch_imgs, batch_seg):\n",
    "    batch_size = len(batch_imgs)\n",
    "    fig, axs = plt.subplots(batch_size, 2, figsize=(10,5))\n",
    "    print(batch_seg.shape)\n",
    "    for i in range(batch_size):\n",
    "        axs[i,0].imshow(batch_imgs[i,2,20,:,:], origin='lower')\n",
    "        axs[i,0].set_title(f\"Image {i} from batch\")\n",
    "        axs[i,1].imshow(batch_seg[i,20,:,:], origin='lower')\n",
    "        axs[i,1].set_title(f\"Seg {i} from batch\")\n",
    "        #axs[i].imshow(batch_imgs[i,10,:,:])\n",
    "        #axs[i].set_title(f\"Image {i} from batch\")\n",
    "    plt.show()"
   ]
  },
  {
   "cell_type": "code",
   "execution_count": 29,
   "id": "72ccaccc-c8df-49e8-8457-e2e802dcd649",
   "metadata": {},
   "outputs": [],
   "source": [
    "def Question3(batchSize):\n",
    "    myloader = DataLoader(dataset, batch_size=batchSize, shuffle=True)    \n",
    "\n",
    "    ##\n",
    "    # myiter = iter(myloader)\n",
    "    # val  = next(myiter)\n",
    "    for batch in myloader:\n",
    "        x, y = batch\n",
    "        #print(\"x: \", x.shape)\n",
    "        #print(\"y: \", y.shape)\n",
    "        plot_batch(x, y)\n",
    "        print(type(x))\n",
    "        print('Batch size:', x.size())\n",
    "        break"
   ]
  },
  {
   "cell_type": "code",
   "execution_count": 37,
   "id": "98f829a9-87ff-4e79-966e-ea92e02a8334",
   "metadata": {},
   "outputs": [
    {
     "data": {
      "application/vnd.jupyter.widget-view+json": {
       "model_id": "39df33d9d3204d6a8831eda426df1874",
       "version_major": 2,
       "version_minor": 0
      },
      "text/plain": [
       "IntSlider(value=2, description='Batch Size', max=7, min=1)"
      ]
     },
     "metadata": {},
     "output_type": "display_data"
    },
    {
     "data": {
      "application/vnd.jupyter.widget-view+json": {
       "model_id": "163419b59ce9408caa35d5a388ef81c3",
       "version_major": 2,
       "version_minor": 0
      },
      "text/plain": [
       "Button(description='Start', style=ButtonStyle())"
      ]
     },
     "metadata": {},
     "output_type": "display_data"
    },
    {
     "data": {
      "application/vnd.jupyter.widget-view+json": {
       "model_id": "103b2615bc0d46f6809b13b92ec18e1d",
       "version_major": 2,
       "version_minor": 0
      },
      "text/plain": [
       "Output()"
      ]
     },
     "metadata": {},
     "output_type": "display_data"
    }
   ],
   "source": [
    "import ipywidgets as widgets\n",
    "from ipywidgets import interact, Layout\n",
    "\n",
    "BatchSizeSlider = widgets.IntSlider(value=2,min=1,max=7,step=1,description=\"Batch Size\")\n",
    "\n",
    "\n",
    "\n",
    "#widgets.interact(FuncForWidget,HiddenLayers=HiddenLayerSlider,Neurons=NeuronsSlider,Epochs=EpochsSlider,ActHidden=ActHiddenDropDown,ActOutput=ActOutputDropDown)\n",
    "\n",
    "button = widgets.Button(description='Start')\n",
    "\n",
    "def on_button_click(button):\n",
    "    output.clear_output()\n",
    "    with output:\n",
    "        Question3(BatchSizeSlider.value)\n",
    "\n",
    "button.on_click(on_button_click)\n",
    "\n",
    "output = widgets.Output()\n",
    "\n",
    "display(BatchSizeSlider, button, output)"
   ]
  },
  {
   "cell_type": "code",
   "execution_count": 36,
   "id": "cd0953e0-a214-4363-bb79-85c98a38f4a3",
   "metadata": {},
   "outputs": [
    {
     "name": "stdout",
     "output_type": "stream",
     "text": [
      "Running on cpu\n",
      "(30, 192, 192)\n",
      "(30, 192, 192)\n",
      "sub-strokecase0222_ses-0001_adc.nii.gz\n",
      "sub-strokecase0222_ses-0001_msk.nii.gz\n",
      "NEW version\n",
      "(72, 112, 112)\n",
      "(72, 112, 112)\n",
      "sub-strokecase0004_ses-0001_adc.nii.gz\n",
      "sub-strokecase0004_ses-0001_msk.nii.gz\n",
      "NEW version\n"
     ]
    },
    {
     "ename": "RuntimeError",
     "evalue": "No suitable template parameter can be found.",
     "output_type": "error",
     "traceback": [
      "\u001b[1;31m---------------------------------------------------------------------------\u001b[0m",
      "\u001b[1;31mRuntimeError\u001b[0m                              Traceback (most recent call last)",
      "Cell \u001b[1;32mIn[36], line 7\u001b[0m\n\u001b[0;32m      4\u001b[0m JustANameSegNP \u001b[38;5;241m=\u001b[39m np\u001b[38;5;241m.\u001b[39masarray(JustANameSegItk)\n\u001b[0;32m      5\u001b[0m JustANameImgNP\u001b[38;5;241m.\u001b[39mshape\n\u001b[1;32m----> 7\u001b[0m metadataIMG\u001b[38;5;241m=\u001b[39m\u001b[43mitk\u001b[49m\u001b[38;5;241;43m.\u001b[39;49m\u001b[43mdict_from_image\u001b[49m\u001b[43m(\u001b[49m\u001b[43mJustANameImgItk\u001b[49m\u001b[43m)\u001b[49m\n\u001b[0;32m      8\u001b[0m metadataSEG\u001b[38;5;241m=\u001b[39mitk\u001b[38;5;241m.\u001b[39mdict_from_image(JustANameSegItk)\n\u001b[0;32m     12\u001b[0m \u001b[38;5;66;03m#metadataIMG\u001b[39;00m\n",
      "File \u001b[1;32m~\\miniconda3\\envs\\aitorchhealth\\lib\\site-packages\\itk\\support\\extras.py:791\u001b[0m, in \u001b[0;36mdict_from_image\u001b[1;34m(image)\u001b[0m\n\u001b[0;32m    788\u001b[0m \u001b[38;5;250m\u001b[39m\u001b[38;5;124;03m\"\"\"Serialize a Python itk.Image object to a pickable Python dictionary.\"\"\"\u001b[39;00m\n\u001b[0;32m    789\u001b[0m \u001b[38;5;28;01mimport\u001b[39;00m \u001b[38;5;21;01mitk\u001b[39;00m\n\u001b[1;32m--> 791\u001b[0m pixel_arr \u001b[38;5;241m=\u001b[39m \u001b[43mitk\u001b[49m\u001b[38;5;241;43m.\u001b[39;49m\u001b[43marray_from_image\u001b[49m\u001b[43m(\u001b[49m\u001b[43mimage\u001b[49m\u001b[43m)\u001b[49m\n\u001b[0;32m    792\u001b[0m imageType \u001b[38;5;241m=\u001b[39m wasm_type_from_image_type(image)\n\u001b[0;32m    793\u001b[0m \u001b[38;5;28;01mreturn\u001b[39;00m \u001b[38;5;28mdict\u001b[39m(\n\u001b[0;32m    794\u001b[0m     imageType\u001b[38;5;241m=\u001b[39mimageType,\n\u001b[0;32m    795\u001b[0m     name\u001b[38;5;241m=\u001b[39mimage\u001b[38;5;241m.\u001b[39mGetObjectName(),\n\u001b[1;32m   (...)\u001b[0m\n\u001b[0;32m    800\u001b[0m     data\u001b[38;5;241m=\u001b[39mpixel_arr,\n\u001b[0;32m    801\u001b[0m )\n",
      "File \u001b[1;32m~\\miniconda3\\envs\\aitorchhealth\\lib\\site-packages\\itk\\support\\extras.py:335\u001b[0m, in \u001b[0;36mGetArrayFromImage\u001b[1;34m(image_or_filter, keep_axes, update, ttype)\u001b[0m\n\u001b[0;32m    320\u001b[0m \u001b[38;5;28;01mdef\u001b[39;00m \u001b[38;5;21mGetArrayFromImage\u001b[39m(\n\u001b[0;32m    321\u001b[0m     image_or_filter: \u001b[38;5;124m\"\u001b[39m\u001b[38;5;124mitkt.ImageOrImageSource\u001b[39m\u001b[38;5;124m\"\u001b[39m,\n\u001b[0;32m    322\u001b[0m     keep_axes: \u001b[38;5;28mbool\u001b[39m \u001b[38;5;241m=\u001b[39m \u001b[38;5;28;01mFalse\u001b[39;00m,\n\u001b[0;32m    323\u001b[0m     update: \u001b[38;5;28mbool\u001b[39m \u001b[38;5;241m=\u001b[39m \u001b[38;5;28;01mTrue\u001b[39;00m,\n\u001b[0;32m    324\u001b[0m     ttype\u001b[38;5;241m=\u001b[39m\u001b[38;5;28;01mNone\u001b[39;00m,\n\u001b[0;32m    325\u001b[0m ) \u001b[38;5;241m-\u001b[39m\u001b[38;5;241m>\u001b[39m np\u001b[38;5;241m.\u001b[39mndarray:\n\u001b[0;32m    326\u001b[0m \u001b[38;5;250m    \u001b[39m\u001b[38;5;124;03m\"\"\"Get an array with the content of the image buffer.\u001b[39;00m\n\u001b[0;32m    327\u001b[0m \n\u001b[0;32m    328\u001b[0m \u001b[38;5;124;03m    When *keep_axes* is *False*, the NumPy array will have C-order\u001b[39;00m\n\u001b[1;32m   (...)\u001b[0m\n\u001b[0;32m    333\u001b[0m \u001b[38;5;124;03m    This is a deep copy of the image buffer and is completely safe and without potential side effects.\u001b[39;00m\n\u001b[0;32m    334\u001b[0m \u001b[38;5;124;03m    \"\"\"\u001b[39;00m\n\u001b[1;32m--> 335\u001b[0m     \u001b[38;5;28;01mreturn\u001b[39;00m \u001b[43m_GetArrayFromImage\u001b[49m\u001b[43m(\u001b[49m\n\u001b[0;32m    336\u001b[0m \u001b[43m        \u001b[49m\u001b[43mimage_or_filter\u001b[49m\u001b[43m,\u001b[49m\u001b[43m \u001b[49m\u001b[38;5;124;43m\"\u001b[39;49m\u001b[38;5;124;43mGetArrayFromImage\u001b[39;49m\u001b[38;5;124;43m\"\u001b[39;49m\u001b[43m,\u001b[49m\u001b[43m \u001b[49m\u001b[43mkeep_axes\u001b[49m\u001b[43m,\u001b[49m\u001b[43m \u001b[49m\u001b[43mupdate\u001b[49m\u001b[43m,\u001b[49m\u001b[43m \u001b[49m\u001b[43mttype\u001b[49m\n\u001b[0;32m    337\u001b[0m \u001b[43m    \u001b[49m\u001b[43m)\u001b[49m\n",
      "File \u001b[1;32m~\\miniconda3\\envs\\aitorchhealth\\lib\\site-packages\\itk\\support\\extras.py:314\u001b[0m, in \u001b[0;36m_GetArrayFromImage\u001b[1;34m(image_or_filter, function_name, keep_axes, update, ttype)\u001b[0m\n\u001b[0;32m    312\u001b[0m keys \u001b[38;5;241m=\u001b[39m [k \u001b[38;5;28;01mfor\u001b[39;00m k \u001b[38;5;129;01min\u001b[39;00m itk\u001b[38;5;241m.\u001b[39mPyBuffer\u001b[38;5;241m.\u001b[39mkeys() \u001b[38;5;28;01mif\u001b[39;00m k[\u001b[38;5;241m0\u001b[39m] \u001b[38;5;241m==\u001b[39m ImageType]\n\u001b[0;32m    313\u001b[0m \u001b[38;5;28;01mif\u001b[39;00m \u001b[38;5;28mlen\u001b[39m(keys) \u001b[38;5;241m==\u001b[39m \u001b[38;5;241m0\u001b[39m:\n\u001b[1;32m--> 314\u001b[0m     \u001b[38;5;28;01mraise\u001b[39;00m \u001b[38;5;167;01mRuntimeError\u001b[39;00m(\u001b[38;5;124m\"\u001b[39m\u001b[38;5;124mNo suitable template parameter can be found.\u001b[39m\u001b[38;5;124m\"\u001b[39m)\n\u001b[0;32m    315\u001b[0m \u001b[38;5;66;03m# Create a numpy array of the type of the input image\u001b[39;00m\n\u001b[0;32m    316\u001b[0m templatedFunction \u001b[38;5;241m=\u001b[39m \u001b[38;5;28mgetattr\u001b[39m(itk\u001b[38;5;241m.\u001b[39mPyBuffer[keys[\u001b[38;5;241m0\u001b[39m]], function_name)\n",
      "\u001b[1;31mRuntimeError\u001b[0m: No suitable template parameter can be found."
     ]
    }
   ],
   "source": [
    "#All cells below here were for testing and troubleshooting purposes\n",
    "\n",
    "dataset.__getitem__(221)\n",
    "JustANameImgItk, JustANameSegItk = dataset.__getitem__(3)\n",
    "JustANameImgNP = np.asarray(JustANameImgItk)\n",
    "JustANameSegNP = np.asarray(JustANameSegItk)\n",
    "JustANameImgNP.shape\n",
    "\n",
    "metadataIMG=itk.dict_from_image(JustANameImgItk)\n",
    "metadataSEG=itk.dict_from_image(JustANameSegItk)\n",
    "\n",
    "\n",
    "\n",
    "#metadataIMG\n",
    "SEGpixdims = metadataSEG['spacing']\n",
    "SEGdims = metadataIMG['size']\n",
    "\n",
    "metadataIMG\n",
    "\n",
    "\n",
    "\n",
    "batch_size = len(batch_imgs)\n",
    "fig, axs = plt.subplots(batch_size, 2, figsize=(10,5))\n",
    "print(batch_seg.shape)\n",
    "for i in range(batch_size):\n",
    "    axs[i,0].imshow(batch_imgs[i,31,:,:])\n",
    "    axs[i,0].set_title(f\"Image {i} from batch\")\n",
    "    axs[i,1].imshow(batch_seg[i,31,:,:])\n",
    "    axs[i,1].set_title(f\"Seg {i} from batch\")\n",
    "        #axs[i].imshow(batch_imgs[i,10,:,:])\n",
    "        #axs[i].set_title(f\"Image {i} from batch\")\n",
    "plt.show()"
   ]
  },
  {
   "cell_type": "code",
   "execution_count": 44,
   "id": "e31fa99a-88a0-453f-bd01-9cfb22966847",
   "metadata": {},
   "outputs": [
    {
     "name": "stdout",
     "output_type": "stream",
     "text": [
      "Spacing: (2.0, 2.0, 2.0)\n",
      "(72, 112, 112)\n",
      "(72, 112, 112)\n"
     ]
    },
    {
     "data": {
      "text/plain": [
       "array([[[0, 0, 0, ..., 0, 0, 0],\n",
       "        [0, 0, 0, ..., 0, 0, 0],\n",
       "        [0, 0, 0, ..., 0, 0, 0],\n",
       "        ...,\n",
       "        [0, 0, 0, ..., 0, 0, 0],\n",
       "        [0, 0, 0, ..., 0, 0, 0],\n",
       "        [0, 0, 0, ..., 0, 0, 0]],\n",
       "\n",
       "       [[0, 0, 0, ..., 0, 0, 0],\n",
       "        [0, 0, 0, ..., 0, 0, 0],\n",
       "        [0, 0, 0, ..., 0, 0, 0],\n",
       "        ...,\n",
       "        [0, 0, 0, ..., 0, 0, 0],\n",
       "        [0, 0, 0, ..., 0, 0, 0],\n",
       "        [0, 0, 0, ..., 0, 0, 0]],\n",
       "\n",
       "       [[0, 0, 0, ..., 0, 0, 0],\n",
       "        [0, 0, 0, ..., 0, 0, 0],\n",
       "        [0, 0, 0, ..., 0, 0, 0],\n",
       "        ...,\n",
       "        [0, 0, 0, ..., 0, 0, 0],\n",
       "        [0, 0, 0, ..., 0, 0, 0],\n",
       "        [0, 0, 0, ..., 0, 0, 0]],\n",
       "\n",
       "       ...,\n",
       "\n",
       "       [[0, 0, 0, ..., 0, 0, 0],\n",
       "        [0, 0, 0, ..., 0, 0, 0],\n",
       "        [0, 0, 0, ..., 0, 0, 0],\n",
       "        ...,\n",
       "        [0, 0, 0, ..., 0, 0, 0],\n",
       "        [0, 0, 0, ..., 0, 0, 0],\n",
       "        [0, 0, 0, ..., 0, 0, 0]],\n",
       "\n",
       "       [[0, 0, 0, ..., 0, 0, 0],\n",
       "        [0, 0, 0, ..., 0, 0, 0],\n",
       "        [0, 0, 0, ..., 0, 0, 0],\n",
       "        ...,\n",
       "        [0, 0, 0, ..., 0, 0, 0],\n",
       "        [0, 0, 0, ..., 0, 0, 0],\n",
       "        [0, 0, 0, ..., 0, 0, 0]],\n",
       "\n",
       "       [[0, 0, 0, ..., 0, 0, 0],\n",
       "        [0, 0, 0, ..., 0, 0, 0],\n",
       "        [0, 0, 0, ..., 0, 0, 0],\n",
       "        ...,\n",
       "        [0, 0, 0, ..., 0, 0, 0],\n",
       "        [0, 0, 0, ..., 0, 0, 0],\n",
       "        [0, 0, 0, ..., 0, 0, 0]]], dtype=uint16)"
      ]
     },
     "execution_count": 44,
     "metadata": {},
     "output_type": "execute_result"
    }
   ],
   "source": [
    "case =47\n",
    "#sub-strokecase0202_ses-0001_adc.nii.gz\n",
    "file_name_msk = f\"data/masks/sub-strokecase0{case:03d}_ses-0001_msk.nii.gz\"\n",
    "file_name_img = f\"data/NIFTIs/NIFTIs/sub-strokecase0{case:03d}_ses-0001_adc.nii.gz\"\n",
    "mask = itk.imread(file_name_msk)\n",
    "img = itk.imread(file_name_img)\n",
    "\n",
    "print(\"Spacing:\", itk.dict_from_image(img)['spacing'])\n",
    "\n",
    "print(img.shape)\n",
    "print(mask.shape)\n",
    "itk.array_from_image(img)\n",
    "itk.array_from_image(mask)"
   ]
  },
  {
   "cell_type": "code",
   "execution_count": 11,
   "id": "64d7c2bb-5f48-4e06-b0e9-0412d5a8c4f9",
   "metadata": {},
   "outputs": [
    {
     "data": {
      "text/plain": [
       "<torch.utils.data.dataloader.DataLoader at 0x243a847cb20>"
      ]
     },
     "execution_count": 11,
     "metadata": {},
     "output_type": "execute_result"
    }
   ],
   "source": [
    "myloader"
   ]
  },
  {
   "cell_type": "code",
   "execution_count": 10,
   "id": "21efe35e-1311-4d47-969e-41d0d748ac48",
   "metadata": {},
   "outputs": [
    {
     "data": {
      "text/plain": [
       "['sub-strokecase0001_ses-0001_msk.nii.gz',\n",
       " 'sub-strokecase0002_ses-0001_msk.nii.gz',\n",
       " 'sub-strokecase0003_ses-0001_msk.nii.gz',\n",
       " 'sub-strokecase0004_ses-0001_msk.nii.gz',\n",
       " 'sub-strokecase0005_ses-0001_msk.nii.gz',\n",
       " 'sub-strokecase0006_ses-0001_msk.nii.gz',\n",
       " 'sub-strokecase0007_ses-0001_msk.nii.gz',\n",
       " 'sub-strokecase0008_ses-0001_msk.nii.gz',\n",
       " 'sub-strokecase0009_ses-0001_msk.nii.gz',\n",
       " 'sub-strokecase0010_ses-0001_msk.nii.gz',\n",
       " 'sub-strokecase0011_ses-0001_msk.nii.gz',\n",
       " 'sub-strokecase0012_ses-0001_msk.nii.gz',\n",
       " 'sub-strokecase0013_ses-0001_msk.nii.gz',\n",
       " 'sub-strokecase0014_ses-0001_msk.nii.gz',\n",
       " 'sub-strokecase0015_ses-0001_msk.nii.gz',\n",
       " 'sub-strokecase0016_ses-0001_msk.nii.gz',\n",
       " 'sub-strokecase0017_ses-0001_msk.nii.gz',\n",
       " 'sub-strokecase0018_ses-0001_msk.nii.gz',\n",
       " 'sub-strokecase0019_ses-0001_msk.nii.gz',\n",
       " 'sub-strokecase0020_ses-0001_msk.nii.gz',\n",
       " 'sub-strokecase0021_ses-0001_msk.nii.gz',\n",
       " 'sub-strokecase0022_ses-0001_msk.nii.gz',\n",
       " 'sub-strokecase0023_ses-0001_msk.nii.gz',\n",
       " 'sub-strokecase0024_ses-0001_msk.nii.gz',\n",
       " 'sub-strokecase0025_ses-0001_msk.nii.gz',\n",
       " 'sub-strokecase0026_ses-0001_msk.nii.gz',\n",
       " 'sub-strokecase0027_ses-0001_msk.nii.gz',\n",
       " 'sub-strokecase0028_ses-0001_msk.nii.gz',\n",
       " 'sub-strokecase0029_ses-0001_msk.nii.gz',\n",
       " 'sub-strokecase0030_ses-0001_msk.nii.gz',\n",
       " 'sub-strokecase0031_ses-0001_msk.nii.gz',\n",
       " 'sub-strokecase0032_ses-0001_msk.nii.gz',\n",
       " 'sub-strokecase0033_ses-0001_msk.nii.gz',\n",
       " 'sub-strokecase0034_ses-0001_msk.nii.gz',\n",
       " 'sub-strokecase0035_ses-0001_msk.nii.gz',\n",
       " 'sub-strokecase0036_ses-0001_msk.nii.gz',\n",
       " 'sub-strokecase0037_ses-0001_msk.nii.gz',\n",
       " 'sub-strokecase0038_ses-0001_msk.nii.gz',\n",
       " 'sub-strokecase0039_ses-0001_msk.nii.gz',\n",
       " 'sub-strokecase0040_ses-0001_msk.nii.gz',\n",
       " 'sub-strokecase0041_ses-0001_msk.nii.gz',\n",
       " 'sub-strokecase0042_ses-0001_msk.nii.gz',\n",
       " 'sub-strokecase0043_ses-0001_msk.nii.gz',\n",
       " 'sub-strokecase0044_ses-0001_msk.nii.gz',\n",
       " 'sub-strokecase0045_ses-0001_msk.nii.gz',\n",
       " 'sub-strokecase0046_ses-0001_msk.nii.gz',\n",
       " 'sub-strokecase0047_ses-0001_msk.nii.gz',\n",
       " 'sub-strokecase0048_ses-0001_msk.nii.gz',\n",
       " 'sub-strokecase0049_ses-0001_msk.nii.gz',\n",
       " 'sub-strokecase0050_ses-0001_msk.nii.gz',\n",
       " 'sub-strokecase0051_ses-0001_msk.nii.gz',\n",
       " 'sub-strokecase0052_ses-0001_msk.nii.gz',\n",
       " 'sub-strokecase0053_ses-0001_msk.nii.gz',\n",
       " 'sub-strokecase0054_ses-0001_msk.nii.gz',\n",
       " 'sub-strokecase0055_ses-0001_msk.nii.gz',\n",
       " 'sub-strokecase0056_ses-0001_msk.nii.gz',\n",
       " 'sub-strokecase0057_ses-0001_msk.nii.gz',\n",
       " 'sub-strokecase0058_ses-0001_msk.nii.gz',\n",
       " 'sub-strokecase0059_ses-0001_msk.nii.gz',\n",
       " 'sub-strokecase0060_ses-0001_msk.nii.gz',\n",
       " 'sub-strokecase0061_ses-0001_msk.nii.gz',\n",
       " 'sub-strokecase0062_ses-0001_msk.nii.gz',\n",
       " 'sub-strokecase0063_ses-0001_msk.nii.gz',\n",
       " 'sub-strokecase0064_ses-0001_msk.nii.gz',\n",
       " 'sub-strokecase0065_ses-0001_msk.nii.gz',\n",
       " 'sub-strokecase0066_ses-0001_msk.nii.gz',\n",
       " 'sub-strokecase0067_ses-0001_msk.nii.gz',\n",
       " 'sub-strokecase0068_ses-0001_msk.nii.gz',\n",
       " 'sub-strokecase0069_ses-0001_msk.nii.gz',\n",
       " 'sub-strokecase0070_ses-0001_msk.nii.gz',\n",
       " 'sub-strokecase0071_ses-0001_msk.nii.gz',\n",
       " 'sub-strokecase0072_ses-0001_msk.nii.gz',\n",
       " 'sub-strokecase0073_ses-0001_msk.nii.gz',\n",
       " 'sub-strokecase0074_ses-0001_msk.nii.gz',\n",
       " 'sub-strokecase0075_ses-0001_msk.nii.gz',\n",
       " 'sub-strokecase0076_ses-0001_msk.nii.gz',\n",
       " 'sub-strokecase0077_ses-0001_msk.nii.gz',\n",
       " 'sub-strokecase0078_ses-0001_msk.nii.gz',\n",
       " 'sub-strokecase0079_ses-0001_msk.nii.gz',\n",
       " 'sub-strokecase0080_ses-0001_msk.nii.gz',\n",
       " 'sub-strokecase0081_ses-0001_msk.nii.gz',\n",
       " 'sub-strokecase0082_ses-0001_msk.nii.gz',\n",
       " 'sub-strokecase0083_ses-0001_msk.nii.gz',\n",
       " 'sub-strokecase0084_ses-0001_msk.nii.gz',\n",
       " 'sub-strokecase0085_ses-0001_msk.nii.gz',\n",
       " 'sub-strokecase0086_ses-0001_msk.nii.gz',\n",
       " 'sub-strokecase0087_ses-0001_msk.nii.gz',\n",
       " 'sub-strokecase0088_ses-0001_msk.nii.gz',\n",
       " 'sub-strokecase0089_ses-0001_msk.nii.gz',\n",
       " 'sub-strokecase0090_ses-0001_msk.nii.gz',\n",
       " 'sub-strokecase0091_ses-0001_msk.nii.gz',\n",
       " 'sub-strokecase0092_ses-0001_msk.nii.gz',\n",
       " 'sub-strokecase0093_ses-0001_msk.nii.gz',\n",
       " 'sub-strokecase0094_ses-0001_msk.nii.gz',\n",
       " 'sub-strokecase0095_ses-0001_msk.nii.gz',\n",
       " 'sub-strokecase0096_ses-0001_msk.nii.gz',\n",
       " 'sub-strokecase0097_ses-0001_msk.nii.gz',\n",
       " 'sub-strokecase0098_ses-0001_msk.nii.gz',\n",
       " 'sub-strokecase0099_ses-0001_msk.nii.gz',\n",
       " 'sub-strokecase0100_ses-0001_msk.nii.gz',\n",
       " 'sub-strokecase0101_ses-0001_msk.nii.gz',\n",
       " 'sub-strokecase0102_ses-0001_msk.nii.gz',\n",
       " 'sub-strokecase0103_ses-0001_msk.nii.gz',\n",
       " 'sub-strokecase0104_ses-0001_msk.nii.gz',\n",
       " 'sub-strokecase0105_ses-0001_msk.nii.gz',\n",
       " 'sub-strokecase0106_ses-0001_msk.nii.gz',\n",
       " 'sub-strokecase0107_ses-0001_msk.nii.gz',\n",
       " 'sub-strokecase0108_ses-0001_msk.nii.gz',\n",
       " 'sub-strokecase0109_ses-0001_msk.nii.gz',\n",
       " 'sub-strokecase0110_ses-0001_msk.nii.gz',\n",
       " 'sub-strokecase0111_ses-0001_msk.nii.gz',\n",
       " 'sub-strokecase0112_ses-0001_msk.nii.gz',\n",
       " 'sub-strokecase0113_ses-0001_msk.nii.gz',\n",
       " 'sub-strokecase0114_ses-0001_msk.nii.gz',\n",
       " 'sub-strokecase0115_ses-0001_msk.nii.gz',\n",
       " 'sub-strokecase0116_ses-0001_msk.nii.gz',\n",
       " 'sub-strokecase0117_ses-0001_msk.nii.gz',\n",
       " 'sub-strokecase0118_ses-0001_msk.nii.gz',\n",
       " 'sub-strokecase0119_ses-0001_msk.nii.gz',\n",
       " 'sub-strokecase0120_ses-0001_msk.nii.gz',\n",
       " 'sub-strokecase0121_ses-0001_msk.nii.gz',\n",
       " 'sub-strokecase0122_ses-0001_msk.nii.gz',\n",
       " 'sub-strokecase0123_ses-0001_msk.nii.gz',\n",
       " 'sub-strokecase0124_ses-0001_msk.nii.gz',\n",
       " 'sub-strokecase0125_ses-0001_msk.nii.gz',\n",
       " 'sub-strokecase0126_ses-0001_msk.nii.gz',\n",
       " 'sub-strokecase0127_ses-0001_msk.nii.gz',\n",
       " 'sub-strokecase0128_ses-0001_msk.nii.gz',\n",
       " 'sub-strokecase0129_ses-0001_msk.nii.gz',\n",
       " 'sub-strokecase0130_ses-0001_msk.nii.gz',\n",
       " 'sub-strokecase0131_ses-0001_msk.nii.gz',\n",
       " 'sub-strokecase0132_ses-0001_msk.nii.gz',\n",
       " 'sub-strokecase0133_ses-0001_msk.nii.gz',\n",
       " 'sub-strokecase0134_ses-0001_msk.nii.gz',\n",
       " 'sub-strokecase0135_ses-0001_msk.nii.gz',\n",
       " 'sub-strokecase0136_ses-0001_msk.nii.gz',\n",
       " 'sub-strokecase0137_ses-0001_msk.nii.gz',\n",
       " 'sub-strokecase0138_ses-0001_msk.nii.gz',\n",
       " 'sub-strokecase0139_ses-0001_msk.nii.gz',\n",
       " 'sub-strokecase0140_ses-0001_msk.nii.gz',\n",
       " 'sub-strokecase0141_ses-0001_msk.nii.gz',\n",
       " 'sub-strokecase0142_ses-0001_msk.nii.gz',\n",
       " 'sub-strokecase0143_ses-0001_msk.nii.gz',\n",
       " 'sub-strokecase0144_ses-0001_msk.nii.gz',\n",
       " 'sub-strokecase0145_ses-0001_msk.nii.gz',\n",
       " 'sub-strokecase0146_ses-0001_msk.nii.gz',\n",
       " 'sub-strokecase0147_ses-0001_msk.nii.gz',\n",
       " 'sub-strokecase0148_ses-0001_msk.nii.gz',\n",
       " 'sub-strokecase0149_ses-0001_msk.nii.gz',\n",
       " 'sub-strokecase0150_ses-0001_msk.nii.gz',\n",
       " 'sub-strokecase0151_ses-0001_msk.nii.gz',\n",
       " 'sub-strokecase0152_ses-0001_msk.nii.gz',\n",
       " 'sub-strokecase0153_ses-0001_msk.nii.gz',\n",
       " 'sub-strokecase0154_ses-0001_msk.nii.gz',\n",
       " 'sub-strokecase0155_ses-0001_msk.nii.gz',\n",
       " 'sub-strokecase0156_ses-0001_msk.nii.gz',\n",
       " 'sub-strokecase0157_ses-0001_msk.nii.gz',\n",
       " 'sub-strokecase0158_ses-0001_msk.nii.gz',\n",
       " 'sub-strokecase0159_ses-0001_msk.nii.gz',\n",
       " 'sub-strokecase0160_ses-0001_msk.nii.gz',\n",
       " 'sub-strokecase0161_ses-0001_msk.nii.gz',\n",
       " 'sub-strokecase0162_ses-0001_msk.nii.gz',\n",
       " 'sub-strokecase0163_ses-0001_msk.nii.gz',\n",
       " 'sub-strokecase0164_ses-0001_msk.nii.gz',\n",
       " 'sub-strokecase0165_ses-0001_msk.nii.gz',\n",
       " 'sub-strokecase0166_ses-0001_msk.nii.gz',\n",
       " 'sub-strokecase0167_ses-0001_msk.nii.gz',\n",
       " 'sub-strokecase0168_ses-0001_msk.nii.gz',\n",
       " 'sub-strokecase0169_ses-0001_msk.nii.gz',\n",
       " 'sub-strokecase0170_ses-0001_msk.nii.gz',\n",
       " 'sub-strokecase0171_ses-0001_msk.nii.gz',\n",
       " 'sub-strokecase0172_ses-0001_msk.nii.gz',\n",
       " 'sub-strokecase0173_ses-0001_msk.nii.gz',\n",
       " 'sub-strokecase0174_ses-0001_msk.nii.gz',\n",
       " 'sub-strokecase0175_ses-0001_msk.nii.gz',\n",
       " 'sub-strokecase0176_ses-0001_msk.nii.gz',\n",
       " 'sub-strokecase0177_ses-0001_msk.nii.gz',\n",
       " 'sub-strokecase0178_ses-0001_msk.nii.gz',\n",
       " 'sub-strokecase0179_ses-0001_msk.nii.gz',\n",
       " 'sub-strokecase0180_ses-0001_msk.nii.gz',\n",
       " 'sub-strokecase0181_ses-0001_msk.nii.gz',\n",
       " 'sub-strokecase0182_ses-0001_msk.nii.gz',\n",
       " 'sub-strokecase0183_ses-0001_msk.nii.gz',\n",
       " 'sub-strokecase0184_ses-0001_msk.nii.gz',\n",
       " 'sub-strokecase0185_ses-0001_msk.nii.gz',\n",
       " 'sub-strokecase0186_ses-0001_msk.nii.gz',\n",
       " 'sub-strokecase0187_ses-0001_msk.nii.gz',\n",
       " 'sub-strokecase0188_ses-0001_msk.nii.gz',\n",
       " 'sub-strokecase0189_ses-0001_msk.nii.gz',\n",
       " 'sub-strokecase0190_ses-0001_msk.nii.gz',\n",
       " 'sub-strokecase0191_ses-0001_msk.nii.gz',\n",
       " 'sub-strokecase0192_ses-0001_msk.nii.gz',\n",
       " 'sub-strokecase0193_ses-0001_msk.nii.gz',\n",
       " 'sub-strokecase0194_ses-0001_msk.nii.gz',\n",
       " 'sub-strokecase0195_ses-0001_msk.nii.gz',\n",
       " 'sub-strokecase0196_ses-0001_msk.nii.gz',\n",
       " 'sub-strokecase0197_ses-0001_msk.nii.gz',\n",
       " 'sub-strokecase0198_ses-0001_msk.nii.gz',\n",
       " 'sub-strokecase0199_ses-0001_msk.nii.gz',\n",
       " 'sub-strokecase0200_ses-0001_msk.nii.gz',\n",
       " 'sub-strokecase0201_ses-0001_msk.nii.gz',\n",
       " 'sub-strokecase0202_ses-0001_msk.nii.gz',\n",
       " 'sub-strokecase0203_ses-0001_msk.nii.gz',\n",
       " 'sub-strokecase0204_ses-0001_msk.nii.gz',\n",
       " 'sub-strokecase0205_ses-0001_msk.nii.gz',\n",
       " 'sub-strokecase0206_ses-0001_msk.nii.gz',\n",
       " 'sub-strokecase0207_ses-0001_msk.nii.gz',\n",
       " 'sub-strokecase0208_ses-0001_msk.nii.gz',\n",
       " 'sub-strokecase0209_ses-0001_msk.nii.gz',\n",
       " 'sub-strokecase0210_ses-0001_msk.nii.gz',\n",
       " 'sub-strokecase0211_ses-0001_msk.nii.gz',\n",
       " 'sub-strokecase0212_ses-0001_msk.nii.gz',\n",
       " 'sub-strokecase0213_ses-0001_msk.nii.gz',\n",
       " 'sub-strokecase0214_ses-0001_msk.nii.gz',\n",
       " 'sub-strokecase0215_ses-0001_msk.nii.gz',\n",
       " 'sub-strokecase0216_ses-0001_msk.nii.gz',\n",
       " 'sub-strokecase0217_ses-0001_msk.nii.gz',\n",
       " 'sub-strokecase0218_ses-0001_msk.nii.gz',\n",
       " 'sub-strokecase0219_ses-0001_msk.nii.gz',\n",
       " 'sub-strokecase0220_ses-0001_msk.nii.gz',\n",
       " 'sub-strokecase0221_ses-0001_msk.nii.gz',\n",
       " 'sub-strokecase0222_ses-0001_msk.nii.gz',\n",
       " 'sub-strokecase0223_ses-0001_msk.nii.gz',\n",
       " 'sub-strokecase0224_ses-0001_msk.nii.gz',\n",
       " 'sub-strokecase0225_ses-0001_msk.nii.gz',\n",
       " 'sub-strokecase0226_ses-0001_msk.nii.gz',\n",
       " 'sub-strokecase0227_ses-0001_msk.nii.gz',\n",
       " 'sub-strokecase0228_ses-0001_msk.nii.gz',\n",
       " 'sub-strokecase0229_ses-0001_msk.nii.gz',\n",
       " 'sub-strokecase0230_ses-0001_msk.nii.gz',\n",
       " 'sub-strokecase0231_ses-0001_msk.nii.gz',\n",
       " 'sub-strokecase0232_ses-0001_msk.nii.gz',\n",
       " 'sub-strokecase0233_ses-0001_msk.nii.gz',\n",
       " 'sub-strokecase0234_ses-0001_msk.nii.gz',\n",
       " 'sub-strokecase0235_ses-0001_msk.nii.gz',\n",
       " 'sub-strokecase0236_ses-0001_msk.nii.gz',\n",
       " 'sub-strokecase0237_ses-0001_msk.nii.gz',\n",
       " 'sub-strokecase0238_ses-0001_msk.nii.gz',\n",
       " 'sub-strokecase0239_ses-0001_msk.nii.gz',\n",
       " 'sub-strokecase0240_ses-0001_msk.nii.gz',\n",
       " 'sub-strokecase0241_ses-0001_msk.nii.gz',\n",
       " 'sub-strokecase0242_ses-0001_msk.nii.gz',\n",
       " 'sub-strokecase0243_ses-0001_msk.nii.gz',\n",
       " 'sub-strokecase0244_ses-0001_msk.nii.gz',\n",
       " 'sub-strokecase0245_ses-0001_msk.nii.gz',\n",
       " 'sub-strokecase0246_ses-0001_msk.nii.gz',\n",
       " 'sub-strokecase0247_ses-0001_msk.nii.gz',\n",
       " 'sub-strokecase0248_ses-0001_msk.nii.gz',\n",
       " 'sub-strokecase0249_ses-0001_msk.nii.gz',\n",
       " 'sub-strokecase0250_ses-0001_msk.nii.gz']"
      ]
     },
     "execution_count": 10,
     "metadata": {},
     "output_type": "execute_result"
    }
   ],
   "source": [
    "dataset.masks_names"
   ]
  },
  {
   "cell_type": "code",
   "execution_count": 13,
   "id": "b3f053e2-5416-40fa-bb84-b9a83ed53e64",
   "metadata": {},
   "outputs": [
    {
     "name": "stdout",
     "output_type": "stream",
     "text": [
      "Running on cpu\n"
     ]
    }
   ],
   "source": [
    "thisImage, thisSegment = dataset.__getITKObjects__(221)"
   ]
  },
  {
   "cell_type": "code",
   "execution_count": 14,
   "id": "a0a6fc31-b7fe-41ef-bea6-dc8fa188d3bb",
   "metadata": {},
   "outputs": [],
   "source": [
    "metadataIMG=itk.dict_from_image(thisImage)\n",
    "metadataSEG=itk.dict_from_image(thisSegment)"
   ]
  },
  {
   "cell_type": "code",
   "execution_count": 15,
   "id": "2629a0d5-6b91-44f4-930b-7b0ea7028c29",
   "metadata": {},
   "outputs": [
    {
     "data": {
      "text/plain": [
       "{'imageType': {'dimension': 3,\n",
       "  'componentType': 'float32',\n",
       "  'pixelType': 'Scalar',\n",
       "  'components': 1},\n",
       " 'name': '',\n",
       " 'origin': (-101.00531005859375, 120.92924499511719, -57.996376037597656),\n",
       " 'spacing': (2.5, 2.5, 2.5),\n",
       " 'size': (110, 110, 72),\n",
       " 'direction': array([[ 0.99279039, -0.09559484,  0.07231088],\n",
       "        [-0.10072313, -0.99238151,  0.07094924],\n",
       "        [-0.0649776 ,  0.0777211 ,  0.99485544]]),\n",
       " 'data': array([[[0., 0., 0., ..., 0., 0., 0.],\n",
       "         [0., 0., 0., ..., 0., 0., 0.],\n",
       "         [0., 0., 0., ..., 0., 0., 0.],\n",
       "         ...,\n",
       "         [0., 0., 0., ..., 0., 0., 0.],\n",
       "         [0., 0., 0., ..., 0., 0., 0.],\n",
       "         [0., 0., 0., ..., 0., 0., 0.]],\n",
       " \n",
       "        [[0., 0., 0., ..., 0., 0., 0.],\n",
       "         [0., 0., 0., ..., 0., 0., 0.],\n",
       "         [0., 0., 0., ..., 0., 0., 0.],\n",
       "         ...,\n",
       "         [0., 0., 0., ..., 0., 0., 0.],\n",
       "         [0., 0., 0., ..., 0., 0., 0.],\n",
       "         [0., 0., 0., ..., 0., 0., 0.]],\n",
       " \n",
       "        [[0., 0., 0., ..., 0., 0., 0.],\n",
       "         [0., 0., 0., ..., 0., 0., 0.],\n",
       "         [0., 0., 0., ..., 0., 0., 0.],\n",
       "         ...,\n",
       "         [0., 0., 0., ..., 0., 0., 0.],\n",
       "         [0., 0., 0., ..., 0., 0., 0.],\n",
       "         [0., 0., 0., ..., 0., 0., 0.]],\n",
       " \n",
       "        ...,\n",
       " \n",
       "        [[0., 0., 0., ..., 0., 0., 0.],\n",
       "         [0., 0., 0., ..., 0., 0., 0.],\n",
       "         [0., 0., 0., ..., 0., 0., 0.],\n",
       "         ...,\n",
       "         [0., 0., 0., ..., 0., 0., 0.],\n",
       "         [0., 0., 0., ..., 0., 0., 0.],\n",
       "         [0., 0., 0., ..., 0., 0., 0.]],\n",
       " \n",
       "        [[0., 0., 0., ..., 0., 0., 0.],\n",
       "         [0., 0., 0., ..., 0., 0., 0.],\n",
       "         [0., 0., 0., ..., 0., 0., 0.],\n",
       "         ...,\n",
       "         [0., 0., 0., ..., 0., 0., 0.],\n",
       "         [0., 0., 0., ..., 0., 0., 0.],\n",
       "         [0., 0., 0., ..., 0., 0., 0.]],\n",
       " \n",
       "        [[0., 0., 0., ..., 0., 0., 0.],\n",
       "         [0., 0., 0., ..., 0., 0., 0.],\n",
       "         [0., 0., 0., ..., 0., 0., 0.],\n",
       "         ...,\n",
       "         [0., 0., 0., ..., 0., 0., 0.],\n",
       "         [0., 0., 0., ..., 0., 0., 0.],\n",
       "         [0., 0., 0., ..., 0., 0., 0.]]], dtype=float32)}"
      ]
     },
     "execution_count": 15,
     "metadata": {},
     "output_type": "execute_result"
    }
   ],
   "source": [
    "metadataIMG"
   ]
  },
  {
   "cell_type": "code",
   "execution_count": 16,
   "id": "b4f5149a-33bd-4a31-9fb9-9fc56c06a593",
   "metadata": {},
   "outputs": [
    {
     "name": "stdout",
     "output_type": "stream",
     "text": [
      "Running on cpu\n",
      "Multimodal size: (3, 50, 100, 99)\n"
     ]
    },
    {
     "data": {
      "text/plain": [
       "(array([[[[-0.15900762, -0.15900762, -0.15900762, ..., -0.15900762,\n",
       "           -0.15900762, -0.15900762],\n",
       "          [-0.15900762, -0.15900762, -0.15900762, ..., -0.15900762,\n",
       "           -0.15900762, -0.15900762],\n",
       "          [-0.15900762, -0.15900762, -0.15900762, ..., -0.15900762,\n",
       "           -0.15900762, -0.15900762],\n",
       "          ...,\n",
       "          [-0.15900762, -0.15900762, -0.15900762, ..., -0.15900762,\n",
       "           -0.15900762, -0.15900762],\n",
       "          [-0.15900762, -0.15900762, -0.15900762, ..., -0.15900762,\n",
       "           -0.15900762, -0.15900762],\n",
       "          [-0.15900762, -0.15900762, -0.15900762, ..., -0.15900762,\n",
       "           -0.15900762, -0.15900762]],\n",
       " \n",
       "         [[-0.15900762, -0.15900762, -0.15900762, ..., -0.15900762,\n",
       "           -0.15900762, -0.15900762],\n",
       "          [-0.15900762, -0.15900762, -0.15900762, ..., -0.15900762,\n",
       "           -0.15900762, -0.15900762],\n",
       "          [-0.15900762, -0.15900762, -0.15900762, ..., -0.15900762,\n",
       "           -0.15900762, -0.15900762],\n",
       "          ...,\n",
       "          [-0.15900762, -0.15900762, -0.15900762, ..., -0.15900762,\n",
       "           -0.15900762, -0.15900762],\n",
       "          [-0.15900762, -0.15900762, -0.15900762, ..., -0.15900762,\n",
       "           -0.15900762, -0.15900762],\n",
       "          [-0.15900762, -0.15900762, -0.15900762, ..., -0.15900762,\n",
       "           -0.15900762, -0.15900762]],\n",
       " \n",
       "         [[-0.15900762, -0.15900762, -0.15900762, ..., -0.15900762,\n",
       "           -0.15900762, -0.15900762],\n",
       "          [-0.15900762, -0.15900762, -0.15900762, ..., -0.15900762,\n",
       "           -0.15900762, -0.15900762],\n",
       "          [-0.15900762, -0.15900762, -0.15900762, ..., -0.15900762,\n",
       "           -0.15900762, -0.15900762],\n",
       "          ...,\n",
       "          [-0.15900762, -0.15900762, -0.15900762, ..., -0.15900762,\n",
       "           -0.15900762, -0.15900762],\n",
       "          [-0.15900762, -0.15900762, -0.15900762, ..., -0.15900762,\n",
       "           -0.15900762, -0.15900762],\n",
       "          [-0.15900762, -0.15900762, -0.15900762, ..., -0.15900762,\n",
       "           -0.15900762, -0.15900762]],\n",
       " \n",
       "         ...,\n",
       " \n",
       "         [[-0.15900762, -0.15900762, -0.15900762, ..., -0.15900762,\n",
       "           -0.15900762, -0.15900762],\n",
       "          [-0.15900762, -0.15900762, -0.15900762, ..., -0.15900762,\n",
       "           -0.15900762, -0.15900762],\n",
       "          [-0.15900762, -0.15900762, -0.15900762, ..., -0.15900762,\n",
       "           -0.15900762, -0.15900762],\n",
       "          ...,\n",
       "          [-0.15900762, -0.15900762, -0.15900762, ..., -0.15900762,\n",
       "           -0.15900762, -0.15900762],\n",
       "          [-0.15900762, -0.15900762, -0.15900762, ..., -0.15900762,\n",
       "           -0.15900762, -0.15900762],\n",
       "          [-0.15900762, -0.15900762, -0.15900762, ..., -0.15900762,\n",
       "           -0.15900762, -0.15900762]],\n",
       " \n",
       "         [[-0.15900762, -0.15900762, -0.15900762, ..., -0.15900762,\n",
       "           -0.15900762, -0.15900762],\n",
       "          [-0.15900762, -0.15900762, -0.15900762, ..., -0.15900762,\n",
       "           -0.15900762, -0.15900762],\n",
       "          [-0.15900762, -0.15900762, -0.15900762, ..., -0.15900762,\n",
       "           -0.15900762, -0.15900762],\n",
       "          ...,\n",
       "          [-0.15900762, -0.15900762, -0.15900762, ..., -0.15900762,\n",
       "           -0.15900762, -0.15900762],\n",
       "          [-0.15900762, -0.15900762, -0.15900762, ..., -0.15900762,\n",
       "           -0.15900762, -0.15900762],\n",
       "          [-0.15900762, -0.15900762, -0.15900762, ..., -0.15900762,\n",
       "           -0.15900762, -0.15900762]],\n",
       " \n",
       "         [[-0.15900762, -0.15900762, -0.15900762, ..., -0.15900762,\n",
       "           -0.15900762, -0.15900762],\n",
       "          [-0.15900762, -0.15900762, -0.15900762, ..., -0.15900762,\n",
       "           -0.15900762, -0.15900762],\n",
       "          [-0.15900762, -0.15900762, -0.15900762, ..., -0.15900762,\n",
       "           -0.15900762, -0.15900762],\n",
       "          ...,\n",
       "          [-0.15900762, -0.15900762, -0.15900762, ..., -0.15900762,\n",
       "           -0.15900762, -0.15900762],\n",
       "          [-0.15900762, -0.15900762, -0.15900762, ..., -0.15900762,\n",
       "           -0.15900762, -0.15900762],\n",
       "          [-0.15900762, -0.15900762, -0.15900762, ..., -0.15900762,\n",
       "           -0.15900762, -0.15900762]]],\n",
       " \n",
       " \n",
       "        [[[-0.15900762, -0.15900762, -0.15900762, ..., -0.15900762,\n",
       "           -0.15900762, -0.15900762],\n",
       "          [-0.15900762, -0.15900762, -0.15900762, ..., -0.15900762,\n",
       "           -0.15900762, -0.15900762],\n",
       "          [-0.15900762, -0.15900762, -0.15900762, ..., -0.15900762,\n",
       "           -0.15900762, -0.15900762],\n",
       "          ...,\n",
       "          [-0.15900762, -0.15900762, -0.15900762, ..., -0.15900762,\n",
       "           -0.15900762, -0.15900762],\n",
       "          [-0.15900762, -0.15900762, -0.15900762, ..., -0.15900762,\n",
       "           -0.15900762, -0.15900762],\n",
       "          [-0.15900762, -0.15900762, -0.15900762, ..., -0.15900762,\n",
       "           -0.15900762, -0.15900762]],\n",
       " \n",
       "         [[-0.15900762, -0.15900762, -0.15900762, ..., -0.15900762,\n",
       "           -0.15900762, -0.15900762],\n",
       "          [-0.15900762, -0.15900762, -0.15900762, ..., -0.15900762,\n",
       "           -0.15900762, -0.15900762],\n",
       "          [-0.15900762, -0.15900762, -0.15900762, ..., -0.15900762,\n",
       "           -0.15900762, -0.15900762],\n",
       "          ...,\n",
       "          [-0.15900762, -0.15900762, -0.15900762, ..., -0.15900762,\n",
       "           -0.15900762, -0.15900762],\n",
       "          [-0.15900762, -0.15900762, -0.15900762, ..., -0.15900762,\n",
       "           -0.15900762, -0.15900762],\n",
       "          [-0.15900762, -0.15900762, -0.15900762, ..., -0.15900762,\n",
       "           -0.15900762, -0.15900762]],\n",
       " \n",
       "         [[-0.15900762, -0.15900762, -0.15900762, ..., -0.15900762,\n",
       "           -0.15900762, -0.15900762],\n",
       "          [-0.15900762, -0.15900762, -0.15900762, ..., -0.15900762,\n",
       "           -0.15900762, -0.15900762],\n",
       "          [-0.15900762, -0.15900762, -0.15900762, ..., -0.15900762,\n",
       "           -0.15900762, -0.15900762],\n",
       "          ...,\n",
       "          [-0.15900762, -0.15900762, -0.15900762, ..., -0.15900762,\n",
       "           -0.15900762, -0.15900762],\n",
       "          [-0.15900762, -0.15900762, -0.15900762, ..., -0.15900762,\n",
       "           -0.15900762, -0.15900762],\n",
       "          [-0.15900762, -0.15900762, -0.15900762, ..., -0.15900762,\n",
       "           -0.15900762, -0.15900762]],\n",
       " \n",
       "         ...,\n",
       " \n",
       "         [[-0.15900762, -0.15900762, -0.15900762, ..., -0.15900762,\n",
       "           -0.15900762, -0.15900762],\n",
       "          [-0.15900762, -0.15900762, -0.15900762, ..., -0.15900762,\n",
       "           -0.15900762, -0.15900762],\n",
       "          [-0.15900762, -0.15900762, -0.15900762, ..., -0.15900762,\n",
       "           -0.15900762, -0.15900762],\n",
       "          ...,\n",
       "          [-0.15900762, -0.15900762, -0.15900762, ..., -0.15900762,\n",
       "           -0.15900762, -0.15900762],\n",
       "          [-0.15900762, -0.15900762, -0.15900762, ..., -0.15900762,\n",
       "           -0.15900762, -0.15900762],\n",
       "          [-0.15900762, -0.15900762, -0.15900762, ..., -0.15900762,\n",
       "           -0.15900762, -0.15900762]],\n",
       " \n",
       "         [[-0.15900762, -0.15900762, -0.15900762, ..., -0.15900762,\n",
       "           -0.15900762, -0.15900762],\n",
       "          [-0.15900762, -0.15900762, -0.15900762, ..., -0.15900762,\n",
       "           -0.15900762, -0.15900762],\n",
       "          [-0.15900762, -0.15900762, -0.15900762, ..., -0.15900762,\n",
       "           -0.15900762, -0.15900762],\n",
       "          ...,\n",
       "          [-0.15900762, -0.15900762, -0.15900762, ..., -0.15900762,\n",
       "           -0.15900762, -0.15900762],\n",
       "          [-0.15900762, -0.15900762, -0.15900762, ..., -0.15900762,\n",
       "           -0.15900762, -0.15900762],\n",
       "          [-0.15900762, -0.15900762, -0.15900762, ..., -0.15900762,\n",
       "           -0.15900762, -0.15900762]],\n",
       " \n",
       "         [[-0.15900762, -0.15900762, -0.15900762, ..., -0.15900762,\n",
       "           -0.15900762, -0.15900762],\n",
       "          [-0.15900762, -0.15900762, -0.15900762, ..., -0.15900762,\n",
       "           -0.15900762, -0.15900762],\n",
       "          [-0.15900762, -0.15900762, -0.15900762, ..., -0.15900762,\n",
       "           -0.15900762, -0.15900762],\n",
       "          ...,\n",
       "          [-0.15900762, -0.15900762, -0.15900762, ..., -0.15900762,\n",
       "           -0.15900762, -0.15900762],\n",
       "          [-0.15900762, -0.15900762, -0.15900762, ..., -0.15900762,\n",
       "           -0.15900762, -0.15900762],\n",
       "          [-0.15900762, -0.15900762, -0.15900762, ..., -0.15900762,\n",
       "           -0.15900762, -0.15900762]]],\n",
       " \n",
       " \n",
       "        [[[-0.15900762, -0.15900762, -0.15900762, ..., -0.15900762,\n",
       "           -0.15900762, -0.15900762],\n",
       "          [-0.15900762, -0.15900762, -0.15900762, ..., -0.15900762,\n",
       "           -0.15900762, -0.15900762],\n",
       "          [-0.15900762, -0.15900762, -0.15900762, ..., -0.15900762,\n",
       "           -0.15900762, -0.15900762],\n",
       "          ...,\n",
       "          [-0.15900762, -0.15900762, -0.15900762, ..., -0.15900762,\n",
       "           -0.15900762, -0.15900762],\n",
       "          [-0.15900762, -0.15900762, -0.15900762, ..., -0.15900762,\n",
       "           -0.15900762, -0.15900762],\n",
       "          [-0.15900762, -0.15900762, -0.15900762, ..., -0.15900762,\n",
       "           -0.15900762, -0.15900762]],\n",
       " \n",
       "         [[-0.15900762, -0.15900762, -0.15900762, ..., -0.15900762,\n",
       "           -0.15900762, -0.15900762],\n",
       "          [-0.15900762, -0.15900762, -0.15900762, ..., -0.15900762,\n",
       "           -0.15900762, -0.15900762],\n",
       "          [-0.15900762, -0.15900762, -0.15900762, ..., -0.15900762,\n",
       "           -0.15900762, -0.15900762],\n",
       "          ...,\n",
       "          [-0.15900762, -0.15900762, -0.15900762, ..., -0.15900762,\n",
       "           -0.15900762, -0.15900762],\n",
       "          [-0.15900762, -0.15900762, -0.15900762, ..., -0.15900762,\n",
       "           -0.15900762, -0.15900762],\n",
       "          [-0.15900762, -0.15900762, -0.15900762, ..., -0.15900762,\n",
       "           -0.15900762, -0.15900762]],\n",
       " \n",
       "         [[-0.15900762, -0.15900762, -0.15900762, ..., -0.15900762,\n",
       "           -0.15900762, -0.15900762],\n",
       "          [-0.15900762, -0.15900762, -0.15900762, ..., -0.15900762,\n",
       "           -0.15900762, -0.15900762],\n",
       "          [-0.15900762, -0.15900762, -0.15900762, ..., -0.15900762,\n",
       "           -0.15900762, -0.15900762],\n",
       "          ...,\n",
       "          [-0.15900762, -0.15900762, -0.15900762, ..., -0.15900762,\n",
       "           -0.15900762, -0.15900762],\n",
       "          [-0.15900762, -0.15900762, -0.15900762, ..., -0.15900762,\n",
       "           -0.15900762, -0.15900762],\n",
       "          [-0.15900762, -0.15900762, -0.15900762, ..., -0.15900762,\n",
       "           -0.15900762, -0.15900762]],\n",
       " \n",
       "         ...,\n",
       " \n",
       "         [[-0.15900762, -0.15900762, -0.15900762, ..., -0.15900762,\n",
       "           -0.15900762, -0.15900762],\n",
       "          [-0.15900762, -0.15900762, -0.15900762, ..., -0.15900762,\n",
       "           -0.15900762, -0.15900762],\n",
       "          [-0.15900762, -0.15900762, -0.15900762, ..., -0.15900762,\n",
       "           -0.15900762, -0.15900762],\n",
       "          ...,\n",
       "          [-0.15900762, -0.15900762, -0.15900762, ..., -0.15900762,\n",
       "           -0.15900762, -0.15900762],\n",
       "          [-0.15900762, -0.15900762, -0.15900762, ..., -0.15900762,\n",
       "           -0.15900762, -0.15900762],\n",
       "          [-0.15900762, -0.15900762, -0.15900762, ..., -0.15900762,\n",
       "           -0.15900762, -0.15900762]],\n",
       " \n",
       "         [[-0.15900762, -0.15900762, -0.15900762, ..., -0.15900762,\n",
       "           -0.15900762, -0.15900762],\n",
       "          [-0.15900762, -0.15900762, -0.15900762, ..., -0.15900762,\n",
       "           -0.15900762, -0.15900762],\n",
       "          [-0.15900762, -0.15900762, -0.15900762, ..., -0.15900762,\n",
       "           -0.15900762, -0.15900762],\n",
       "          ...,\n",
       "          [-0.15900762, -0.15900762, -0.15900762, ..., -0.15900762,\n",
       "           -0.15900762, -0.15900762],\n",
       "          [-0.15900762, -0.15900762, -0.15900762, ..., -0.15900762,\n",
       "           -0.15900762, -0.15900762],\n",
       "          [-0.15900762, -0.15900762, -0.15900762, ..., -0.15900762,\n",
       "           -0.15900762, -0.15900762]],\n",
       " \n",
       "         [[-0.15900762, -0.15900762, -0.15900762, ..., -0.15900762,\n",
       "           -0.15900762, -0.15900762],\n",
       "          [-0.15900762, -0.15900762, -0.15900762, ..., -0.15900762,\n",
       "           -0.15900762, -0.15900762],\n",
       "          [-0.15900762, -0.15900762, -0.15900762, ..., -0.15900762,\n",
       "           -0.15900762, -0.15900762],\n",
       "          ...,\n",
       "          [-0.15900762, -0.15900762, -0.15900762, ..., -0.15900762,\n",
       "           -0.15900762, -0.15900762],\n",
       "          [-0.15900762, -0.15900762, -0.15900762, ..., -0.15900762,\n",
       "           -0.15900762, -0.15900762],\n",
       "          [-0.15900762, -0.15900762, -0.15900762, ..., -0.15900762,\n",
       "           -0.15900762, -0.15900762]]]], dtype=float32),\n",
       " array([[[-0.02238886, -0.02238886, -0.02238886, ..., -0.02238886,\n",
       "          -0.02238886, -0.02238886],\n",
       "         [-0.02238886, -0.02238886, -0.02238886, ..., -0.02238886,\n",
       "          -0.02238886, -0.02238886],\n",
       "         [-0.02238886, -0.02238886, -0.02238886, ..., -0.02238886,\n",
       "          -0.02238886, -0.02238886],\n",
       "         ...,\n",
       "         [-0.02238886, -0.02238886, -0.02238886, ..., -0.02238886,\n",
       "          -0.02238886, -0.02238886],\n",
       "         [-0.02238886, -0.02238886, -0.02238886, ..., -0.02238886,\n",
       "          -0.02238886, -0.02238886],\n",
       "         [-0.02238886, -0.02238886, -0.02238886, ..., -0.02238886,\n",
       "          -0.02238886, -0.02238886]],\n",
       " \n",
       "        [[-0.02238886, -0.02238886, -0.02238886, ..., -0.02238886,\n",
       "          -0.02238886, -0.02238886],\n",
       "         [-0.02238886, -0.02238886, -0.02238886, ..., -0.02238886,\n",
       "          -0.02238886, -0.02238886],\n",
       "         [-0.02238886, -0.02238886, -0.02238886, ..., -0.02238886,\n",
       "          -0.02238886, -0.02238886],\n",
       "         ...,\n",
       "         [-0.02238886, -0.02238886, -0.02238886, ..., -0.02238886,\n",
       "          -0.02238886, -0.02238886],\n",
       "         [-0.02238886, -0.02238886, -0.02238886, ..., -0.02238886,\n",
       "          -0.02238886, -0.02238886],\n",
       "         [-0.02238886, -0.02238886, -0.02238886, ..., -0.02238886,\n",
       "          -0.02238886, -0.02238886]],\n",
       " \n",
       "        [[-0.02238886, -0.02238886, -0.02238886, ..., -0.02238886,\n",
       "          -0.02238886, -0.02238886],\n",
       "         [-0.02238886, -0.02238886, -0.02238886, ..., -0.02238886,\n",
       "          -0.02238886, -0.02238886],\n",
       "         [-0.02238886, -0.02238886, -0.02238886, ..., -0.02238886,\n",
       "          -0.02238886, -0.02238886],\n",
       "         ...,\n",
       "         [-0.02238886, -0.02238886, -0.02238886, ..., -0.02238886,\n",
       "          -0.02238886, -0.02238886],\n",
       "         [-0.02238886, -0.02238886, -0.02238886, ..., -0.02238886,\n",
       "          -0.02238886, -0.02238886],\n",
       "         [-0.02238886, -0.02238886, -0.02238886, ..., -0.02238886,\n",
       "          -0.02238886, -0.02238886]],\n",
       " \n",
       "        ...,\n",
       " \n",
       "        [[-0.02238886, -0.02238886, -0.02238886, ..., -0.02238886,\n",
       "          -0.02238886, -0.02238886],\n",
       "         [-0.02238886, -0.02238886, -0.02238886, ..., -0.02238886,\n",
       "          -0.02238886, -0.02238886],\n",
       "         [-0.02238886, -0.02238886, -0.02238886, ..., -0.02238886,\n",
       "          -0.02238886, -0.02238886],\n",
       "         ...,\n",
       "         [-0.02238886, -0.02238886, -0.02238886, ..., -0.02238886,\n",
       "          -0.02238886, -0.02238886],\n",
       "         [-0.02238886, -0.02238886, -0.02238886, ..., -0.02238886,\n",
       "          -0.02238886, -0.02238886],\n",
       "         [-0.02238886, -0.02238886, -0.02238886, ..., -0.02238886,\n",
       "          -0.02238886, -0.02238886]],\n",
       " \n",
       "        [[-0.02238886, -0.02238886, -0.02238886, ..., -0.02238886,\n",
       "          -0.02238886, -0.02238886],\n",
       "         [-0.02238886, -0.02238886, -0.02238886, ..., -0.02238886,\n",
       "          -0.02238886, -0.02238886],\n",
       "         [-0.02238886, -0.02238886, -0.02238886, ..., -0.02238886,\n",
       "          -0.02238886, -0.02238886],\n",
       "         ...,\n",
       "         [-0.02238886, -0.02238886, -0.02238886, ..., -0.02238886,\n",
       "          -0.02238886, -0.02238886],\n",
       "         [-0.02238886, -0.02238886, -0.02238886, ..., -0.02238886,\n",
       "          -0.02238886, -0.02238886],\n",
       "         [-0.02238886, -0.02238886, -0.02238886, ..., -0.02238886,\n",
       "          -0.02238886, -0.02238886]],\n",
       " \n",
       "        [[-0.02238886, -0.02238886, -0.02238886, ..., -0.02238886,\n",
       "          -0.02238886, -0.02238886],\n",
       "         [-0.02238886, -0.02238886, -0.02238886, ..., -0.02238886,\n",
       "          -0.02238886, -0.02238886],\n",
       "         [-0.02238886, -0.02238886, -0.02238886, ..., -0.02238886,\n",
       "          -0.02238886, -0.02238886],\n",
       "         ...,\n",
       "         [-0.02238886, -0.02238886, -0.02238886, ..., -0.02238886,\n",
       "          -0.02238886, -0.02238886],\n",
       "         [-0.02238886, -0.02238886, -0.02238886, ..., -0.02238886,\n",
       "          -0.02238886, -0.02238886],\n",
       "         [-0.02238886, -0.02238886, -0.02238886, ..., -0.02238886,\n",
       "          -0.02238886, -0.02238886]]]))"
      ]
     },
     "execution_count": 16,
     "metadata": {},
     "output_type": "execute_result"
    }
   ],
   "source": [
    "dataset.__getitem__(39)"
   ]
  },
  {
   "cell_type": "code",
   "execution_count": 22,
   "id": "cbbd787f-c231-4043-9fa1-34f383d18bfe",
   "metadata": {},
   "outputs": [
    {
     "data": {
      "text/plain": [
       "tensor([[[-0.4210, -0.4210, -0.4210,  ..., -0.4210, -0.4210, -0.4210],\n",
       "         [-0.4210, -0.4210, -0.4210,  ..., -0.4210, -0.4210, -0.4210],\n",
       "         [-0.4210, -0.4210, -0.4210,  ..., -0.4210, -0.4210, -0.4210],\n",
       "         ...,\n",
       "         [-0.4210, -0.4210, -0.4210,  ..., -0.4210, -0.4210, -0.4210],\n",
       "         [-0.4210, -0.4210, -0.4210,  ..., -0.4210, -0.4210, -0.4210],\n",
       "         [-0.4210, -0.4210, -0.4210,  ..., -0.4210, -0.4210, -0.4210]],\n",
       "\n",
       "        [[-0.4210, -0.4210, -0.4210,  ..., -0.4210, -0.4210, -0.4210],\n",
       "         [-0.4210, -0.4210, -0.4210,  ..., -0.4210, -0.4210, -0.4210],\n",
       "         [-0.4210, -0.4210, -0.4210,  ..., -0.4210, -0.4210, -0.4210],\n",
       "         ...,\n",
       "         [-0.4210, -0.4210, -0.4210,  ..., -0.4210, -0.4210, -0.4210],\n",
       "         [-0.4210, -0.4210, -0.4210,  ..., -0.4210, -0.4210, -0.4210],\n",
       "         [-0.4210, -0.4210, -0.4210,  ..., -0.4210, -0.4210, -0.4210]],\n",
       "\n",
       "        [[-0.4210, -0.4210, -0.4210,  ..., -0.4210, -0.4210, -0.4210],\n",
       "         [-0.4210, -0.4210, -0.4210,  ..., -0.4210, -0.4210, -0.4210],\n",
       "         [-0.4210, -0.4210, -0.4210,  ..., -0.4210, -0.4210, -0.4210],\n",
       "         ...,\n",
       "         [-0.4210, -0.4210, -0.4210,  ..., -0.4210, -0.4210, -0.4210],\n",
       "         [-0.4210, -0.4210, -0.4210,  ..., -0.4210, -0.4210, -0.4210],\n",
       "         [-0.4210, -0.4210, -0.4210,  ..., -0.4210, -0.4210, -0.4210]],\n",
       "\n",
       "        ...,\n",
       "\n",
       "        [[-0.4210, -0.4210, -0.4210,  ..., -0.4210, -0.4210, -0.4210],\n",
       "         [-0.4210, -0.4210, -0.4210,  ..., -0.4210, -0.4210, -0.4210],\n",
       "         [-0.4210, -0.4210, -0.4210,  ..., -0.4210, -0.4210, -0.4210],\n",
       "         ...,\n",
       "         [-0.4210, -0.4210, -0.4210,  ..., -0.4210, -0.4210, -0.4210],\n",
       "         [-0.4210, -0.4210, -0.4210,  ..., -0.4210, -0.4210, -0.4210],\n",
       "         [-0.4210, -0.4210, -0.4210,  ..., -0.4210, -0.4210, -0.4210]],\n",
       "\n",
       "        [[-0.4210, -0.4210, -0.4210,  ..., -0.4210, -0.4210, -0.4210],\n",
       "         [-0.4210, -0.4210, -0.4210,  ..., -0.4210, -0.4210, -0.4210],\n",
       "         [-0.4210, -0.4210, -0.4210,  ..., -0.4210, -0.4210, -0.4210],\n",
       "         ...,\n",
       "         [-0.4210, -0.4210, -0.4210,  ..., -0.4210, -0.4210, -0.4210],\n",
       "         [-0.4210, -0.4210, -0.4210,  ..., -0.4210, -0.4210, -0.4210],\n",
       "         [-0.4210, -0.4210, -0.4210,  ..., -0.4210, -0.4210, -0.4210]],\n",
       "\n",
       "        [[-0.4210, -0.4210, -0.4210,  ..., -0.4210, -0.4210, -0.4210],\n",
       "         [-0.4210, -0.4210, -0.4210,  ..., -0.4210, -0.4210, -0.4210],\n",
       "         [-0.4210, -0.4210, -0.4210,  ..., -0.4210, -0.4210, -0.4210],\n",
       "         ...,\n",
       "         [-0.4210, -0.4210, -0.4210,  ..., -0.4210, -0.4210, -0.4210],\n",
       "         [-0.4210, -0.4210, -0.4210,  ..., -0.4210, -0.4210, -0.4210],\n",
       "         [-0.4210, -0.4210, -0.4210,  ..., -0.4210, -0.4210, -0.4210]]])"
      ]
     },
     "execution_count": 22,
     "metadata": {},
     "output_type": "execute_result"
    }
   ],
   "source": [
    "torch.tensor(thisImageItem)"
   ]
  },
  {
   "cell_type": "code",
   "execution_count": 8,
   "id": "09b30007-404d-47de-a680-ddde8a26b231",
   "metadata": {},
   "outputs": [
    {
     "data": {
      "text/plain": [
       "250"
      ]
     },
     "execution_count": 8,
     "metadata": {},
     "output_type": "execute_result"
    }
   ],
   "source": [
    "dataset.__len__()"
   ]
  },
  {
   "cell_type": "code",
   "execution_count": 47,
   "id": "084b1af3-a083-469c-bde2-d722e4d27cd1",
   "metadata": {},
   "outputs": [
    {
     "data": {
      "image/png": "[encoded data removed]",
      "text/plain": [
       "<Figure size 640x480 with 1 Axes>"
      ]
     },
     "metadata": {},
     "output_type": "display_data"
    }
   ],
   "source": [
    "ImageMeansUNNORM = np.empty((0,2), float)\n",
    "for i in range (0,249):\n",
    "    image, mask = dataset.__getitem__(i, normalize=False)\n",
    "    new_row = np.array([i, np.mean(image)])\n",
    "    ImageMeansUNNORM = np.append(ImageMeansUNNORM,[new_row], axis=0)\n",
    "    \n",
    "\n",
    "plt.scatter(ImageMeansUNNORM[:,0], ImageMeansUNNORM[:,1])\n",
    "plt.show()   \n",
    "    \n",
    "    "
   ]
  },
  {
   "cell_type": "code",
   "execution_count": 53,
   "id": "f4945955-4a12-4165-913c-9213dedbfee0",
   "metadata": {},
   "outputs": [
    {
     "name": "stdout",
     "output_type": "stream",
     "text": [
      "Running on cpu\n"
     ]
    },
    {
     "name": "stderr",
     "output_type": "stream",
     "text": [
      "invalid value encountered in divide\n"
     ]
    },
    {
     "data": {
      "image/png": "[encoded data removed]",
      "text/plain": [
       "<Figure size 640x480 with 1 Axes>"
      ]
     },
     "metadata": {},
     "output_type": "display_data"
    }
   ],
   "source": [
    "ImageMeansNORM = np.empty((0,2), float)\n",
    "for i in range (0,249):\n",
    "    image, mask = dataset.__getitem__(i, normalize=True)\n",
    "    new_row = np.array([i, np.mean(image)])\n",
    "    ImageMeansNORM = np.append(ImageMeansNORM,[new_row], axis=0)\n",
    "    \n",
    "\n",
    "plt.scatter(ImageMeansNORM[:,0], ImageMeansNORM[:,1])\n",
    "plt.show()"
   ]
  },
  {
   "cell_type": "code",
   "execution_count": 34,
   "id": "38eee276-038e-4f17-ad50-5a5abeb81885",
   "metadata": {},
   "outputs": [
    {
     "data": {
      "image/png": "[encoded data removed]",
      "text/plain": [
       "<Figure size 640x480 with 1 Axes>"
      ]
     },
     "metadata": {},
     "output_type": "display_data"
    }
   ],
   "source": [
    "# plot a histogram of the data\n",
    "plt.hist(ImageMeansUNNORM[:,1], bins=30, range=(0,0.001))\n",
    "\n",
    "# add labels and title\n",
    "plt.xlabel('Mean Values')\n",
    "plt.ylabel('Frequency')\n",
    "plt.title('Histogram of Random Data')\n",
    "\n",
    "# display the plot\n",
    "plt.show()"
   ]
  },
  {
   "cell_type": "code",
   "execution_count": 37,
   "id": "5121f9ac-eaf1-40d2-9830-2c9a04e593dd",
   "metadata": {},
   "outputs": [
    {
     "data": {
      "image/png": "[encoded data removed]",
      "text/plain": [
       "<Figure size 640x480 with 1 Axes>"
      ]
     },
     "metadata": {},
     "output_type": "display_data"
    }
   ],
   "source": [
    "# plot a histogram of the data\n",
    "plt.hist(ImageMeansUNNORM[:,1], bins=30, range=(0,1))\n",
    "\n",
    "# add labels and title\n",
    "plt.xlabel('Mean Values')\n",
    "plt.ylabel('Frequency')\n",
    "plt.title('Histogram of Random Data')\n",
    "\n",
    "# display the plot\n",
    "plt.show()"
   ]
  },
  {
   "cell_type": "code",
   "execution_count": 54,
   "id": "c6a0b9ee-3909-4b0d-b14d-39dc95ba7283",
   "metadata": {},
   "outputs": [
    {
     "data": {
      "image/png": "[encoded data removed]",
      "text/plain": [
       "<Figure size 640x480 with 1 Axes>"
      ]
     },
     "metadata": {},
     "output_type": "display_data"
    }
   ],
   "source": [
    "# plot a histogram of the data\n",
    "plt.hist(ImageMeansUNNORM[:,1], bins=30)\n",
    "\n",
    "# add labels and title\n",
    "plt.xlabel('Mean Values')\n",
    "plt.ylabel('Frequency')\n",
    "plt.title('Histogram of Random Data')\n",
    "\n",
    "# display the plot\n",
    "plt.show()"
   ]
  },
  {
   "cell_type": "code",
   "execution_count": 55,
   "id": "34f546cb-547e-4834-a463-8c32038d2a25",
   "metadata": {},
   "outputs": [
    {
     "data": {
      "image/png": "[encoded data removed]",
      "text/plain": [
       "<Figure size 640x480 with 1 Axes>"
      ]
     },
     "metadata": {},
     "output_type": "display_data"
    }
   ],
   "source": [
    "# plot a histogram of the data\n",
    "plt.hist(ImageMeansNORM[:,1], bins=30)\n",
    "\n",
    "# add labels and title\n",
    "plt.xlabel('Mean Values')\n",
    "plt.ylabel('Frequency')\n",
    "plt.title('Histogram of Random Data')\n",
    "\n",
    "# display the plot\n",
    "plt.show()"
   ]
  },
  {
   "cell_type": "code",
   "execution_count": 59,
   "id": "3196b9ac-4d58-4a15-bb1f-b1f95b19986d",
   "metadata": {},
   "outputs": [
    {
     "data": {
      "image/png": "[encoded data removed]",
      "text/plain": [
       "<Figure size 640x480 with 2 Axes>"
      ]
     },
     "metadata": {},
     "output_type": "display_data"
    }
   ],
   "source": [
    "ImageMeansUNRES = np.empty((0,7), float)\n",
    "for i in range (0,749):\n",
    "    #note that I commented out mask for __getITKObjects__\n",
    "    imageITK = dataset.__getITKObjects__(i, resampling=False)\n",
    "    new_row = np.array([i, itk.dict_from_image(imageITK)['spacing'][0],\n",
    "                        itk.dict_from_image(imageITK)['spacing'][1],\n",
    "                        itk.dict_from_image(imageITK)['spacing'][2],\n",
    "                        itk.dict_from_image(imageITK)['size'][0],\n",
    "                       itk.dict_from_image(imageITK)['size'][1],\n",
    "                       itk.dict_from_image(imageITK)['size'][2]])\n",
    "    ImageMeansUNRES = np.append(ImageMeansUNRES,[new_row], axis=0)\n",
    "    \n",
    "\n",
    "plt.scatter(ImageMeansUNRES[:,4], ImageMeansUNRES[:,5], c=ImageMeansUNRES[:,6], cmap='viridis')\n",
    "\n",
    "# set x-axis and y-axis labels, and add a colorbar\n",
    "plt.xlabel('Dimension 1')\n",
    "plt.ylabel('Dimension 2')\n",
    "plt.colorbar(label='Dimension 3')\n",
    "\n",
    "# add a title\n",
    "plt.title('Comparison of Image Dimensions')\n",
    "\n",
    "# display the plot\n",
    "plt.show()\n"
   ]
  },
  {
   "cell_type": "code",
   "execution_count": 60,
   "id": "f5757fdf-62a9-4aec-9429-570e4c6078b0",
   "metadata": {},
   "outputs": [
    {
     "data": {
      "image/png": "[encoded data removed]",
      "text/plain": [
       "<Figure size 640x480 with 2 Axes>"
      ]
     },
     "metadata": {},
     "output_type": "display_data"
    }
   ],
   "source": [
    "plt.scatter(ImageMeansUNRES[:,1], ImageMeansUNRES[:,2], c=ImageMeansUNRES[:,3], cmap='viridis')\n",
    "\n",
    "# set x-axis and y-axis labels, and add a colorbar\n",
    "plt.xlabel('Dimension 1')\n",
    "plt.ylabel('Dimension 2')\n",
    "plt.colorbar(label='Dimension 3')\n",
    "\n",
    "# add a title\n",
    "plt.title('Comparison of Image Dimensions')\n",
    "\n",
    "# display the plot\n",
    "plt.show()\n"
   ]
  },
  {
   "cell_type": "code",
   "execution_count": 46,
   "id": "87f2a1c7-e0e5-4ba7-bc98-84a3c5818798",
   "metadata": {},
   "outputs": [
    {
     "data": {
      "image/png": "[encoded data removed]",
      "text/plain": [
       "<Figure size 640x480 with 1 Axes>"
      ]
     },
     "metadata": {},
     "output_type": "display_data"
    }
   ],
   "source": [
    "image, mask = dataset.__getitem__(5, normalize=False)\n",
    "new_row = np.array([5, np.mean(image)])\n",
    "ImageMeansUNNORM = np.append(ImageMeansUNNORM,[new_row], axis=0)\n",
    "#ImageMeansUNNORM\n",
    "\n",
    "plt.scatter(ImageMeansUNNORM[:,0], ImageMeansUNNORM[:,1])\n",
    "plt.show()"
   ]
  },
  {
   "cell_type": "code",
   "execution_count": null,
   "id": "e8c2b902-6f02-487a-a172-56babb12158b",
   "metadata": {},
   "outputs": [],
   "source": [
    "myTransform = transforms.Compose([\n",
    "                transforms.Resize(size = (256,256)),\n",
    "                #transforms.RandomRotation(degrees = (-20,+20)),\n",
    "                transforms.CenterCrop(size=224),\n",
    "                #transforms.RandomAutocontrast(p=0.5),\n",
    "                #transforms.RandomEqualize(p=0.5),\n",
    "                transforms.ToTensor(),\n",
    "                #transforms.Normalize([0.485, 0.456, 0.406],[0.229, 0.224, 0.225])\n",
    "                transforms.Normalize([0.485],[0.229])\n",
    "        ])\n",
    "#transforms.Normalize([0],[1])"
   ]
  },
  {
   "cell_type": "code",
   "execution_count": 57,
   "id": "d99db5e2-c049-49a5-b7a8-5aa46767fbc0",
   "metadata": {},
   "outputs": [
    {
     "name": "stdout",
     "output_type": "stream",
     "text": [
      "Running on cpu\n",
      "Total images length:  750\n"
     ]
    },
    {
     "data": {
      "text/plain": [
       "250"
      ]
     },
     "execution_count": 57,
     "metadata": {},
     "output_type": "execute_result"
    }
   ],
   "source": [
    "dataset.__len__()"
   ]
  },
  {
   "cell_type": "code",
   "execution_count": null,
   "id": "9c699200-3831-4e4f-8a60-c0f406d5f872",
   "metadata": {},
   "outputs": [],
   "source": []
  }
 ],
 "metadata": {
  "kernelspec": {
   "display_name": "Python 3 (ipykernel)",
   "language": "python",
   "name": "python3"
  },
  "language_info": {
   "codemirror_mode": {
    "name": "ipython",
    "version": 3
   },
   "file_extension": ".py",
   "mimetype": "text/x-python",
   "name": "python",
   "nbconvert_exporter": "python",
   "pygments_lexer": "ipython3",
   "version": "3.10.8"
  }
 },
 "nbformat": 4,
 "nbformat_minor": 5
}
